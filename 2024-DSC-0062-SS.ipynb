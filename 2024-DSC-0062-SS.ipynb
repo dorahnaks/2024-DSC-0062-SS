{
 "cells": [
  {
   "cell_type": "markdown",
   "id": "48d52fde-3d80-477c-ad25-854bbac685ab",
   "metadata": {},
   "source": [
    "# Question Five"
   ]
  },
  {
   "cell_type": "code",
   "execution_count": 2,
   "id": "2f618ac9-a4f6-4ec0-bf90-b12f2768afdf",
   "metadata": {},
   "outputs": [],
   "source": [
    "import numpy as np"
   ]
  },
  {
   "cell_type": "code",
   "execution_count": 19,
   "id": "5a694d8d-0fc8-4671-bada-b148848cebfe",
   "metadata": {},
   "outputs": [],
   "source": [
    "import pandas as pd"
   ]
  },
  {
   "cell_type": "code",
   "execution_count": 22,
   "id": "88dbb84f-7df5-437e-b083-f60245bb6a9a",
   "metadata": {},
   "outputs": [],
   "source": [
    "import matplotlib.pyplot as plt\n",
    "import seaborn as sns"
   ]
  },
  {
   "cell_type": "markdown",
   "id": "ae4d835d-dac4-4f6f-9f2c-a32fb66d9119",
   "metadata": {},
   "source": [
    "### Creating a matrix"
   ]
  },
  {
   "cell_type": "code",
   "execution_count": 3,
   "id": "5aab4f07-0c3b-4fa8-ae26-b908410df508",
   "metadata": {},
   "outputs": [
    {
     "name": "stdout",
     "output_type": "stream",
     "text": [
      "[[1.  0.2 0.5]\n",
      " [0.2 1.  0.8]\n",
      " [0.5 0.8 1. ]]\n"
     ]
    }
   ],
   "source": [
    "# let the matrix be X\n",
    "X = np.array([[1, 0.2, 0.5], [0.2, 1, 0.8], [0.5, 0.8, 1]])\n",
    "print(X)"
   ]
  },
  {
   "cell_type": "markdown",
   "id": "b687d87e-d146-478e-9a83-64e1240f8f31",
   "metadata": {},
   "source": [
    "## (i)"
   ]
  },
  {
   "cell_type": "code",
   "execution_count": 7,
   "id": "317f0cde-5315-42ca-b069-053f61375b1f",
   "metadata": {},
   "outputs": [
    {
     "name": "stdout",
     "output_type": "stream",
     "text": [
      "[[1.  0.2 0.5]\n",
      " [0.2 1.  0.8]\n",
      " [0.5 0.8 1. ]]\n"
     ]
    }
   ],
   "source": [
    "# Computing the transpose\n",
    "print(np.transpose(X))"
   ]
  },
  {
   "cell_type": "markdown",
   "id": "66181458-1033-432b-a53d-cfde25d93b1f",
   "metadata": {},
   "source": [
    "## (ii)"
   ]
  },
  {
   "cell_type": "code",
   "execution_count": 9,
   "id": "01f54c08-10f3-4b05-bc9e-be24c955c91f",
   "metadata": {},
   "outputs": [
    {
     "name": "stdout",
     "output_type": "stream",
     "text": [
      "0.2299999999999999\n"
     ]
    }
   ],
   "source": [
    "# Computing the determinant\n",
    "print(np.linalg.det(X))"
   ]
  },
  {
   "cell_type": "markdown",
   "id": "04785eaa-5e0e-4164-bd92-7050b85652c0",
   "metadata": {},
   "source": [
    "# (iii)"
   ]
  },
  {
   "cell_type": "code",
   "execution_count": 10,
   "id": "1e980da4-ce7f-4c55-940c-970d141f8ca7",
   "metadata": {},
   "outputs": [
    {
     "name": "stdout",
     "output_type": "stream",
     "text": [
      "SVDResult(U=array([[-0.43721717,  0.85359707, -0.28321933],\n",
      "       [-0.59931898, -0.51133314, -0.61591816],\n",
      "       [-0.67056536, -0.09955128,  0.73514055]]), S=array([2.04100779, 0.82188052, 0.13711169]), Vh=array([[-0.43721717, -0.59931898, -0.67056536],\n",
      "       [ 0.85359707, -0.51133314, -0.09955128],\n",
      "       [-0.28321933, -0.61591816,  0.73514055]]))\n"
     ]
    }
   ],
   "source": [
    "# Decomposing the matrix using svd method\n",
    "print(np.linalg.svd(X))"
   ]
  },
  {
   "cell_type": "code",
   "execution_count": 11,
   "id": "3358da82-53e0-45ba-927e-53bdb5420ba0",
   "metadata": {},
   "outputs": [
    {
     "name": "stdout",
     "output_type": "stream",
     "text": [
      "EigResult(eigenvalues=array([2.04100779, 0.82188052, 0.13711169]), eigenvectors=array([[-0.43721717, -0.85359707, -0.28321933],\n",
      "       [-0.59931898,  0.51133314, -0.61591816],\n",
      "       [-0.67056536,  0.09955128,  0.73514055]]))\n"
     ]
    }
   ],
   "source": [
    "# Decomposing the matrix using eigen method\n",
    "print(np.linalg.eig(X))"
   ]
  },
  {
   "cell_type": "markdown",
   "id": "578123d6-0f6b-487f-84b6-47039a553e83",
   "metadata": {},
   "source": [
    "# (iv)"
   ]
  },
  {
   "cell_type": "code",
   "execution_count": 70,
   "id": "8c68f6a5-09c0-4e7c-a137-d0fdb8a69628",
   "metadata": {},
   "outputs": [],
   "source": [
    "# Transforming the matrix\n"
   ]
  },
  {
   "cell_type": "markdown",
   "id": "67d5a274-9e28-4acf-860a-887a2ec66ca7",
   "metadata": {},
   "source": [
    "\n"
   ]
  },
  {
   "cell_type": "markdown",
   "id": "8f0c8ee9-c2d7-46fc-b39c-e16a119194e0",
   "metadata": {},
   "source": [
    "# Question Six"
   ]
  },
  {
   "cell_type": "code",
   "execution_count": 15,
   "id": "df37fd01-35b9-42d4-800f-055d592d266a",
   "metadata": {},
   "outputs": [],
   "source": [
    "from numpy import random"
   ]
  },
  {
   "cell_type": "markdown",
   "id": "9459e209-8023-476a-ae3a-6fee4473a771",
   "metadata": {},
   "source": [
    "# (i)"
   ]
  },
  {
   "cell_type": "code",
   "execution_count": 58,
   "id": "2555bf5c-0762-4966-821f-ab1aed79ca9f",
   "metadata": {},
   "outputs": [],
   "source": [
    "# Generating random samples\n",
    "poisson_data = random.poisson(lam=5, size=1000)"
   ]
  },
  {
   "cell_type": "markdown",
   "id": "64de877c-db73-446f-ab4f-6df1b9ea4e96",
   "metadata": {},
   "source": [
    "# (ii)"
   ]
  },
  {
   "cell_type": "code",
   "execution_count": 59,
   "id": "2c736dc4-a6b4-4b5c-9a75-c248f2407aa9",
   "metadata": {},
   "outputs": [
    {
     "name": "stdout",
     "output_type": "stream",
     "text": [
      "5.099\n"
     ]
    }
   ],
   "source": [
    "#Calculating mean \n",
    "mean = np.mean(poisson_data)\n",
    "print(mean)"
   ]
  },
  {
   "cell_type": "code",
   "execution_count": 60,
   "id": "413b4ade-f86b-44a9-8adf-d665adcd8187",
   "metadata": {},
   "outputs": [
    {
     "name": "stdout",
     "output_type": "stream",
     "text": [
      "5.6151990000000005\n"
     ]
    }
   ],
   "source": [
    "#Calculating variance\n",
    "variance = np.var(poisson_data)\n",
    "print(variance)"
   ]
  },
  {
   "cell_type": "markdown",
   "id": "103e8263-7849-446a-a16a-8870a080e381",
   "metadata": {},
   "source": [
    "# (iii)"
   ]
  },
  {
   "cell_type": "code",
   "execution_count": 63,
   "id": "de8476bb-78ac-4e21-a900-38aa11775151",
   "metadata": {},
   "outputs": [
    {
     "data": {
      "image/png": "[encoded data removed]",
      "text/plain": [
       "<Figure size 640x480 with 1 Axes>"
      ]
     },
     "metadata": {},
     "output_type": "display_data"
    }
   ],
   "source": [
    "# Visualising the distribution\n",
    "sns.histplot(poisson_data, color=\"blue\")\n",
    "plt.title(\"A histogram showing visualisation of the distribution\")\n",
    "plt.show()"
   ]
  },
  {
   "cell_type": "code",
   "execution_count": null,
   "id": "f494c36b-a471-4d47-8acf-fe038b0e4197",
   "metadata": {},
   "outputs": [],
   "source": []
  }
 ],
 "metadata": {
  "kernelspec": {
   "display_name": "Python 3 (ipykernel)",
   "language": "python",
   "name": "python3"
  },
  "language_info": {
   "codemirror_mode": {
    "name": "ipython",
    "version": 3
   },
   "file_extension": ".py",
   "mimetype": "text/x-python",
   "name": "python",
   "nbconvert_exporter": "python",
   "pygments_lexer": "ipython3",
   "version": "3.12.5"
  }
 },
 "nbformat": 4,
 "nbformat_minor": 5
}
